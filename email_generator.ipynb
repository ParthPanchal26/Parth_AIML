{
 "cells": [
  {
   "cell_type": "markdown",
   "id": "f1cd6457-d51d-4dee-abbe-be8fc579088c",
   "metadata": {},
   "source": [
    "# Email Generator"
   ]
  },
  {
   "cell_type": "code",
   "execution_count": 23,
   "id": "75b68734-6c77-4fcb-ab49-a56ea0618f95",
   "metadata": {},
   "outputs": [
    {
     "name": "stdout",
     "output_type": "stream",
     "text": [
      "Note: you may need to restart the kernel to use updated packages.\n"
     ]
    }
   ],
   "source": [
    "pip install -qU langchain_community beautifulsoup4 chromaDB"
   ]
  },
  {
   "cell_type": "code",
   "execution_count": 24,
   "id": "3d2a5525-3326-4144-a42d-8f6072528994",
   "metadata": {},
   "outputs": [],
   "source": [
    "from langchain_groq import ChatGroq"
   ]
  },
  {
   "cell_type": "code",
   "execution_count": 25,
   "id": "5b1d644c-cdcf-4ea7-88d9-0c44f000c226",
   "metadata": {},
   "outputs": [
    {
     "name": "stdout",
     "output_type": "stream",
     "text": [
      "Hello. How can I assist you today?\n"
     ]
    }
   ],
   "source": [
    "llm = ChatGroq(\n",
    "    model=\"llama-3.1-70b-versatile\",\n",
    "    temperature=0,\n",
    "    groq_api_key = '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'\n",
    "    # other params...\n",
    ")\n",
    "\n",
    "res = llm.invoke(\"Hello, World!\")\n",
    "print(res.content)"
   ]
  },
  {
   "cell_type": "code",
   "execution_count": 26,
   "id": "4beb96af-0f27-4bff-b0d2-14e56e5f0b2f",
   "metadata": {},
   "outputs": [
    {
     "name": "stdout",
     "output_type": "stream",
     "text": [
      "Generative AI Evaluation Clinical Scientist — Google CareersCareersSkip navigation linksTeamsLocationsBenefitsJobsStudentsYour careerarrow_drop_downYour career menu ApplicationsProfileSaved jobsJob alertsSign inCareersApplicationsProfileSearch jobsSaved jobsJob alertsTeamsLocationsBenefitsJobsStudentsHelpSend Feedbackjob detailsarrow_backBack to jobs searchJobs search results2,556  jobs matchedChip Package Signal and Power Integrity EngineerSunnyvale, CA, USASoftware Engineer, Content Safety On Device, Hades PlatformBelo Horizonte, State of Minas Gerais, Brazil; São Paulo, State of São Paulo, BrazilSoftware Engineering Manager II, Site Reliability Engineering, ShoppingDublin, IrelandAccount Strategist, Engage, Google Customer Solutions, Vietnam MarketHo Chi Minh, Ho Chi Minh City, VietnamSoC Power and Performance Lead, TPU, Google CloudBengaluru, Karnataka, IndiaSenior UX Researcher, gTech Users and ProductsBoulder, CO, USA; Atlanta, GA, USACloud Consultant, Application Modernization Edge, Professional ServicesAustin, TX, USA; Atlanta, GA, USA; +2 more; +1 moreCamera Software Engineer, Project StarlineMountain View, CA, USA; Seattle, WA, USAYouTube Ads Viewer Experience Product ManagerSan Bruno, CA, USA; Mountain View, CA, USADigital Business Marketing Apprenticeship, March 2025 Start (English)Hyderabad, Telangana, India; Gurugram, Haryana, India; +3 more; +2 moreQuantum Error Correction Research Scientist, Quantum AILos Angeles, CA, USA; Goleta, CA, USAData Center Facilities Technician, Mechanical and ChillersLas Vegas, NV, USASales Specialist, YouTube (Fixed-Term Contract)Copenhagen, DenmarkGoogle Experience Operations ManagerBengaluru, Karnataka, IndiaDomain Assurance Compliance Specialist, Risk Compliance and IntegrityAustin, TX, USAProduct Manager, Meet Hardware, Google CloudNew York, NY, USA; Raleigh, NC, USA; +2 more; +1 moreBOLD Intern, Summer 2025Mountain View, CA, USA; New York, NY, USA; +6 more; +5 moreProgram Manager, Business Continuity and ResilienceReston, VA, USATechnical Account Manager, Google CloudShenzhen, Guangdong Province, ChinaLanguage Manager (Bahasa Indonesia)Jakarta, Indonesia1‑20 of 2556navigate_nextFollow Life at Google on More about usAbout usopen_in_newContact usopen_in_newPressopen_in_newRelated InformationInvestor relationsopen_in_newBlogopen_in_newEqual OpportunityGoogle is proud to be an equal opportunity and affirmative action employer. We are committed to building a workforce that is representative of the users we serve, creating a culture of belonging, and providing an equal employment opportunity regardless of race, creed, color, religion, gender, sexual orientation, gender identity/expression, national origin, disability, age, genetic information, veteran status, marital status, pregnancy or related condition (including breastfeeding), expecting or parents-to-be, criminal histories consistent with legal requirements, or any other basis protected by law. See also  Google's EEO Policy, Know your rights: workplace discrimination is illegal, Belonging at Google, and How we hire.More about usexpand_moreRelated informationexpand_moreEqual opportunityexpand_morePrivacyopen_in_newApplicant & Candidate Privacyopen_in_newTermsopen_in_newhelpHelpopen_in_newarrow_backBack to jobs searchGenerative AI Evaluation Clinical Scientistshare linkCopy linkemailEmail a friendcorporate_fareGoogleplaceMountain View, CA, USA; Seattle, WA, USA; +2 more; +1 morebar_chartMidMidExperience driving progress, solving problems, and mentoring more junior team members; deeper expertise and applied knowledge within relevant area.Applyshare linkCopy linkemailEmail a friendinfo_outlineXNote: By applying to this position you will have an opportunity to share your preferred working location from the following: Mountain View, CA, USA; Seattle, WA, USA; Cambridge, MA, USA.Minimum qualifications:\n",
      "Medical degree (e.g., MD, MBBS, or equivalent degree) or a PhD in Health Informatics, Psychology, Biomedical Engineering, Epidemiology or relevant field with formal research training.\n",
      "3 years of experience applying qualitative and quantitative research methods relevant to health AI model validation.\n",
      "Experience implementing analysis with tools relevant to AI evaluation.\n",
      "Preferred qualifications:\n",
      "Research publication record in health AI evaluation or machine learning.\n",
      "Experience designing and evaluating psychometrically sound survey rating instruments.\n",
      "Experience with AI/ML applied to clinical or health problems, including assessment of their benefits, harms, and potential biases.\n",
      "Experience with clinical evaluation of generative AI models, with a focus on assessing scientific accuracy, safety and health impact.\n",
      "Experience with clinical research, digital health, real-world evaluations and working with large and complex healthcare datasets.\n",
      "Experience in an environment that has developed, launched, and evaluated health technology products.\n",
      "About the jobOur mission is to foster excellence in digital health research and health impact assessment across Google. Our centralized Health Impact Center of Excellence provides scientific leadership and operational support to accelerate health research productivity, increase methodological accuracy and assess the health impact of Google health initiatives around the world.Google Health is a company-wide effort to help billions of people be healthier. We work toward this vision by meeting people in their everyday moments and empowering them to stay healthy and partnering with care teams to provide more accurate, accessible, and equitable care. Our teams are applying our expertise and technology to improve health outcomes globally – with high-quality information and tools to help people manage their health and wellbeing, solutions to transform care delivery, research to catalyze the use of artificial intelligence for the screening and diagnosis of disease, and data and insights to the public health community.The US base salary range for this full-time position is $146,000-$216,000 + bonus + equity + benefits. Our salary ranges are determined by role, level, and location. The range displayed on each job posting reflects the minimum and maximum target salaries for the position across all US locations. Within the range, individual pay is determined by work location and additional factors, including job-related skills, experience, and relevant education or training. Your recruiter can share more about the specific salary range for your preferred location during the hiring process.Please note that the compensation details listed in US role postings reflect the base salary only, and do not include bonus, equity, or benefits. Learn more about benefits at Google.Responsibilities\n",
      "Develop, validate, and deploy standardized rating instruments to assess the quality, accuracy, robustness, and efficacy of AI models, ensuring alignment with Google’s AI Principles, regulatory guidelines, and industry best practices.\n",
      "Design and execute evaluations of AI models in health-related areas, with a focus on assessing information quality, clinical impact, safety, and potential biases.\n",
      "Employ expertise in qualitative and quantitative research methods, including clinical study design and execution, to design state-of-the-art methods for AI model assessment.\n",
      "Collaborate closely with cross-functional teams, including engineers, clinicians, researchers, and product managers, to ensure that AI models are evaluated transparently throughout the development life-cycle.\n",
      "Leverage programming skills (e.g., Python/Colab/Jupyter notebooks, R) to conduct analyses, develop evaluation tools, and support scaling of automated evaluation workflows.\n",
      "Information collected and processed as part of your Google Careers profile, and any job applications you choose to submit is subject to Google's Applicant and Candidate Privacy Policy.Google is proud to be an equal opportunity and affirmative action employer. We are committed to building a workforce that is representative of the users we serve, creating a culture of belonging, and providing an equal employment opportunity regardless of race, creed, color, religion, gender, sexual orientation, gender identity/expression, national origin, disability, age, genetic information, veteran status, marital status, pregnancy or related condition (including breastfeeding), expecting or parents-to-be, criminal histories consistent with legal requirements, or any other basis protected by law. See also  Google's EEO Policy, Know your rights: workplace discrimination is illegal, Belonging at Google, and How we hire.If you have a need that requires accommodation, please let us know by completing our Accommodations for Applicants form.Google is a global company and, in order to facilitate efficient collaboration and communication globally, English proficiency is a requirement for all roles unless stated otherwise in the job posting.To all recruitment agencies: Google does not accept agency resumes. Please do not forward resumes to our jobs alias, Google employees, or any other organization location. Google is not responsible for any fees related to unsolicited resumes.Follow Life at Google on More about usAbout usopen_in_newContact usopen_in_newPressopen_in_newRelated InformationInvestor relationsopen_in_newBlogopen_in_newEqual OpportunityGoogle is proud to be an equal opportunity and affirmative action employer. We are committed to building a workforce that is representative of the users we serve, creating a culture of belonging, and providing an equal employment opportunity regardless of race, creed, color, religion, gender, sexual orientation, gender identity/expression, national origin, disability, age, genetic information, veteran status, marital status, pregnancy or related condition (including breastfeeding), expecting or parents-to-be, criminal histories consistent with legal requirements, or any other basis protected by law. See also  Google's EEO Policy, Know your rights: workplace discrimination is illegal, Belonging at Google, and How we hire.More about usexpand_moreRelated informationexpand_moreEqual opportunityexpand_morePrivacyopen_in_newApplicant & Candidate Privacyopen_in_newTermsopen_in_newhelpHelpopen_in_newFollow Life at Google on More about usAbout usopen_in_newContact usopen_in_newPressopen_in_newRelated InformationInvestor relationsopen_in_newBlogopen_in_newEqual OpportunityGoogle is proud to be an equal opportunity and affirmative action employer. We are committed to building a workforce that is representative of the users we serve, creating a culture of belonging, and providing an equal employment opportunity regardless of race, creed, color, religion, gender, sexual orientation, gender identity/expression, national origin, disability, age, genetic information, veteran status, marital status, pregnancy or related condition (including breastfeeding), expecting or parents-to-be, criminal histories consistent with legal requirements, or any other basis protected by law. See also  Google's EEO Policy, Know your rights: workplace discrimination is illegal, Belonging at Google, and How we hire.More about usexpand_moreRelated informationexpand_moreEqual opportunityexpand_morePrivacyopen_in_newApplicant & Candidate Privacyopen_in_newTermsopen_in_newhelpHelpopen_in_newGoogle appsMain menu\n"
     ]
    }
   ],
   "source": [
    "from langchain_community.document_loaders import WebBaseLoader\n",
    "\n",
    "loader = WebBaseLoader(\"https://www.google.com/about/careers/applications/jobs/results/87135988375003846-generative-ai-evaluation-clinical-scientist\")\n",
    "page_data = loader.load().pop().page_content\n",
    "print(page_data)"
   ]
  },
  {
   "cell_type": "code",
   "execution_count": 27,
   "id": "6e03d685-dff9-4600-9b45-ca017876ad28",
   "metadata": {},
   "outputs": [
    {
     "name": "stdout",
     "output_type": "stream",
     "text": [
      "```json\n",
      "{\n",
      "  \"role\": \"Generative AI Evaluation Clinical Scientist\",\n",
      "  \"experience\": \"3 years of experience applying qualitative and quantitative research methods relevant to health AI model validation\",\n",
      "  \"skills\": [\n",
      "    \"Qualitative and quantitative research methods\",\n",
      "    \"Clinical study design and execution\",\n",
      "    \"Programming skills (e.g., Python/Colab/Jupyter notebooks, R)\",\n",
      "    \"AI/ML applied to clinical or health problems\",\n",
      "    \"Clinical evaluation of generative AI models\",\n",
      "    \"Clinical research, digital health, real-world evaluations and working with large and complex healthcare datasets\"\n",
      "  ],\n",
      "  \"description\": \"Develop, validate, and deploy standardized rating instruments to assess the quality, accuracy, robustness, and efficacy of AI models, ensuring alignment with Google’s AI Principles, regulatory guidelines, and industry best practices. Design and execute evaluations of AI models in health-related areas, with a focus on assessing information quality, clinical impact, safety, and potential biases.\"\n",
      "}\n",
      "```\n"
     ]
    }
   ],
   "source": [
    "from langchain_core.prompts import PromptTemplate\n",
    "\n",
    "prompt_extract = PromptTemplate.from_template(\n",
    "    \"\"\"\n",
    "    ### SCRAPED TEXT FROM WEBSITE:\n",
    "    {page_data}\n",
    "    ### INSTRUCTION:\n",
    "    The scraped text is from the career's page of a website.\n",
    "    Your job is to extract the job posting and return them in JOSN format containing\n",
    "    following keys: `role`, `experience`, `skills` and `description`.\n",
    "    Only return the valid JSON.\n",
    "    ### VALID JSON (NO PREAMBLES):\n",
    "    \"\"\"\n",
    ")\n",
    "\n",
    "chain_extract = prompt_extract | llm\n",
    "res = chain_extract.invoke(input={'page_data': page_data})\n",
    "\n",
    "print(res.content)"
   ]
  },
  {
   "cell_type": "code",
   "execution_count": 28,
   "id": "b9c69128-a67e-4934-b58b-f0bf95d589d2",
   "metadata": {},
   "outputs": [
    {
     "data": {
      "text/plain": [
       "{'role': 'Generative AI Evaluation Clinical Scientist',\n",
       " 'experience': '3 years of experience applying qualitative and quantitative research methods relevant to health AI model validation',\n",
       " 'skills': ['Qualitative and quantitative research methods',\n",
       "  'Clinical study design and execution',\n",
       "  'Programming skills (e.g., Python/Colab/Jupyter notebooks, R)',\n",
       "  'AI/ML applied to clinical or health problems',\n",
       "  'Clinical evaluation of generative AI models',\n",
       "  'Clinical research, digital health, real-world evaluations and working with large and complex healthcare datasets'],\n",
       " 'description': 'Develop, validate, and deploy standardized rating instruments to assess the quality, accuracy, robustness, and efficacy of AI models, ensuring alignment with Google’s AI Principles, regulatory guidelines, and industry best practices. Design and execute evaluations of AI models in health-related areas, with a focus on assessing information quality, clinical impact, safety, and potential biases.'}"
      ]
     },
     "execution_count": 28,
     "metadata": {},
     "output_type": "execute_result"
    }
   ],
   "source": [
    "from langchain_core.output_parsers import JsonOutputParser\n",
    "\n",
    "json_parser = JsonOutputParser()\n",
    "json_res = json_parser.parse(res.content)\n",
    "json_res"
   ]
  },
  {
   "cell_type": "code",
   "execution_count": 29,
   "id": "66113f3d-0605-47c9-a65a-dc10e5d05f6a",
   "metadata": {},
   "outputs": [
    {
     "data": {
      "text/html": [
       "<div>\n",
       "<style scoped>\n",
       "    .dataframe tbody tr th:only-of-type {\n",
       "        vertical-align: middle;\n",
       "    }\n",
       "\n",
       "    .dataframe tbody tr th {\n",
       "        vertical-align: top;\n",
       "    }\n",
       "\n",
       "    .dataframe thead th {\n",
       "        text-align: right;\n",
       "    }\n",
       "</style>\n",
       "<table border=\"1\" class=\"dataframe\">\n",
       "  <thead>\n",
       "    <tr style=\"text-align: right;\">\n",
       "      <th></th>\n",
       "      <th>techstack</th>\n",
       "      <th>links</th>\n",
       "    </tr>\n",
       "  </thead>\n",
       "  <tbody>\n",
       "    <tr>\n",
       "      <th>0</th>\n",
       "      <td>HTML</td>\n",
       "      <td>https://portfolio.example.com/html</td>\n",
       "    </tr>\n",
       "    <tr>\n",
       "      <th>1</th>\n",
       "      <td>CSS</td>\n",
       "      <td>https://portfolio.example.com/css</td>\n",
       "    </tr>\n",
       "    <tr>\n",
       "      <th>2</th>\n",
       "      <td>JavaScript</td>\n",
       "      <td>https://portfolio.example.com/javascript</td>\n",
       "    </tr>\n",
       "    <tr>\n",
       "      <th>3</th>\n",
       "      <td>Node.js</td>\n",
       "      <td>https://portfolio.example.com/nodejs</td>\n",
       "    </tr>\n",
       "    <tr>\n",
       "      <th>4</th>\n",
       "      <td>React</td>\n",
       "      <td>https://portfolio.example.com/react</td>\n",
       "    </tr>\n",
       "    <tr>\n",
       "      <th>5</th>\n",
       "      <td>Angular</td>\n",
       "      <td>https://portfolio.example.com/angular</td>\n",
       "    </tr>\n",
       "    <tr>\n",
       "      <th>6</th>\n",
       "      <td>Vue.js</td>\n",
       "      <td>https://portfolio.example.com/vuejs</td>\n",
       "    </tr>\n",
       "    <tr>\n",
       "      <th>7</th>\n",
       "      <td>Express.js</td>\n",
       "      <td>https://portfolio.example.com/expressjs</td>\n",
       "    </tr>\n",
       "    <tr>\n",
       "      <th>8</th>\n",
       "      <td>MongoDB</td>\n",
       "      <td>https://portfolio.example.com/mongodb</td>\n",
       "    </tr>\n",
       "    <tr>\n",
       "      <th>9</th>\n",
       "      <td>MySQL</td>\n",
       "      <td>https://portfolio.example.com/mysql</td>\n",
       "    </tr>\n",
       "    <tr>\n",
       "      <th>10</th>\n",
       "      <td>PostgreSQL</td>\n",
       "      <td>https://portfolio.example.com/postgresql</td>\n",
       "    </tr>\n",
       "    <tr>\n",
       "      <th>11</th>\n",
       "      <td>Python</td>\n",
       "      <td>https://portfolio.example.com/python</td>\n",
       "    </tr>\n",
       "    <tr>\n",
       "      <th>12</th>\n",
       "      <td>Django</td>\n",
       "      <td>https://portfolio.example.com/django</td>\n",
       "    </tr>\n",
       "    <tr>\n",
       "      <th>13</th>\n",
       "      <td>Flask</td>\n",
       "      <td>https://portfolio.example.com/flask</td>\n",
       "    </tr>\n",
       "    <tr>\n",
       "      <th>14</th>\n",
       "      <td>Java</td>\n",
       "      <td>https://portfolio.example.com/java</td>\n",
       "    </tr>\n",
       "    <tr>\n",
       "      <th>15</th>\n",
       "      <td>Spring Boot</td>\n",
       "      <td>https://portfolio.example.com/springboot</td>\n",
       "    </tr>\n",
       "    <tr>\n",
       "      <th>16</th>\n",
       "      <td>C#</td>\n",
       "      <td>https://portfolio.example.com/csharp</td>\n",
       "    </tr>\n",
       "    <tr>\n",
       "      <th>17</th>\n",
       "      <td>ASP.NET</td>\n",
       "      <td>https://portfolio.example.com/aspnet</td>\n",
       "    </tr>\n",
       "    <tr>\n",
       "      <th>18</th>\n",
       "      <td>PHP</td>\n",
       "      <td>https://portfolio.example.com/php</td>\n",
       "    </tr>\n",
       "    <tr>\n",
       "      <th>19</th>\n",
       "      <td>Laravel</td>\n",
       "      <td>https://portfolio.example.com/laravel</td>\n",
       "    </tr>\n",
       "    <tr>\n",
       "      <th>20</th>\n",
       "      <td>Ruby on Rails</td>\n",
       "      <td>https://portfolio.example.com/rubyonrails</td>\n",
       "    </tr>\n",
       "  </tbody>\n",
       "</table>\n",
       "</div>"
      ],
      "text/plain": [
       "        techstack                                      links\n",
       "0            HTML         https://portfolio.example.com/html\n",
       "1             CSS          https://portfolio.example.com/css\n",
       "2      JavaScript   https://portfolio.example.com/javascript\n",
       "3         Node.js       https://portfolio.example.com/nodejs\n",
       "4           React        https://portfolio.example.com/react\n",
       "5         Angular      https://portfolio.example.com/angular\n",
       "6          Vue.js        https://portfolio.example.com/vuejs\n",
       "7      Express.js    https://portfolio.example.com/expressjs\n",
       "8         MongoDB      https://portfolio.example.com/mongodb\n",
       "9           MySQL        https://portfolio.example.com/mysql\n",
       "10     PostgreSQL   https://portfolio.example.com/postgresql\n",
       "11         Python       https://portfolio.example.com/python\n",
       "12         Django       https://portfolio.example.com/django\n",
       "13          Flask        https://portfolio.example.com/flask\n",
       "14           Java         https://portfolio.example.com/java\n",
       "15    Spring Boot   https://portfolio.example.com/springboot\n",
       "16             C#       https://portfolio.example.com/csharp\n",
       "17        ASP.NET       https://portfolio.example.com/aspnet\n",
       "18            PHP          https://portfolio.example.com/php\n",
       "19        Laravel      https://portfolio.example.com/laravel\n",
       "20  Ruby on Rails  https://portfolio.example.com/rubyonrails"
      ]
     },
     "execution_count": 29,
     "metadata": {},
     "output_type": "execute_result"
    }
   ],
   "source": [
    "import pandas as pd\n",
    "\n",
    "df = pd.read_csv(\"techstack_links.csv\")\n",
    "df"
   ]
  },
  {
   "cell_type": "code",
   "execution_count": 30,
   "id": "fb0339ea-d5ea-400e-92b8-c24a0f38d95f",
   "metadata": {},
   "outputs": [],
   "source": [
    "import chromadb\n",
    "import uuid\n",
    "\n",
    "client = chromadb.PersistentClient('vectorstor')\n",
    "collection = client.get_or_create_collection(name=\"portfolio\")\n",
    "\n",
    "if not collection.count():\n",
    "    for _, row in df.iterrows():\n",
    "        collection.add(documents=row[\"techstack\"],\n",
    "                      metadatas={'links': row[\"links\"]},\n",
    "                      ids=[str(uuid.uuid4())])"
   ]
  },
  {
   "cell_type": "code",
   "execution_count": 31,
   "id": "7243feca-7209-4e6f-8cb8-26d5cb09b74e",
   "metadata": {},
   "outputs": [
    {
     "ename": "NameError",
     "evalue": "name 'josn_res' is not defined",
     "output_type": "error",
     "traceback": [
      "\u001b[1;31m---------------------------------------------------------------------------\u001b[0m",
      "\u001b[1;31mNameError\u001b[0m                                 Traceback (most recent call last)",
      "Cell \u001b[1;32mIn[31], line 1\u001b[0m\n\u001b[1;32m----> 1\u001b[0m job \u001b[38;5;241m=\u001b[39m \u001b[43mjosn_res\u001b[49m\n\u001b[0;32m      2\u001b[0m job[\u001b[38;5;124m'\u001b[39m\u001b[38;5;124mskills\u001b[39m\u001b[38;5;124m'\u001b[39m]\n",
      "\u001b[1;31mNameError\u001b[0m: name 'josn_res' is not defined"
     ]
    }
   ],
   "source": [
    "job = josn_res\n",
    "job['skills']"
   ]
  },
  {
   "cell_type": "code",
   "execution_count": null,
   "id": "1952baa7-392c-4546-9785-67f0a6bd7c6f",
   "metadata": {},
   "outputs": [],
   "source": [
    "links = collection.query(query_texts=job['skills'], n_results=2).get('metadatas')\n",
    "links"
   ]
  },
  {
   "cell_type": "code",
   "execution_count": null,
   "id": "e85a08ed-262e-43a4-a437-dc056c9873bd",
   "metadata": {},
   "outputs": [],
   "source": [
    "prompt_email = PromptTemplate.from_template(\n",
    "    \"\"\"\n",
    "    ### JOB DESCRIPTION:\n",
    "    {job_description}\n",
    "\n",
    "    ### INSTRUCTION:\n",
    "    You are Mohandas, a Business Development Executive at Codevolve. Codevolve is an AI & Software company that specializes\n",
    "    in the seamless integration of business processes through automated tools. Leveraging our extensive experience, we have \n",
    "    empowered businesses by optimizing their workflows and enhancing operational efficiency.\n",
    "\n",
    "    Your job is to write a cold email to the client regarding the job mentioned above describing the capabilities in fulfilling\n",
    "    their needs.\n",
    "    Also add the most relavant once from the following links to showcase Codevolve's portfolio: {link_list}\n",
    "    Remember you are Mohandas, BDE at Codevolve.\n",
    "\n",
    "    Do not provide a preamble.\n",
    "    ### EMAIL (NO PREAMBLE):\n",
    "    \n",
    "    \"\"\"\n",
    ")\n",
    "\n",
    "chain_email = prompt_email | llm\n",
    "res = chain_email.invoke({\"job_description\": str(job), \"link_list\": links})\n",
    "print(res.content)"
   ]
  },
  {
   "cell_type": "code",
   "execution_count": null,
   "id": "9e599cd1-3e72-4e43-b6cc-bcd5f72e1b61",
   "metadata": {},
   "outputs": [],
   "source": []
  },
  {
   "cell_type": "code",
   "execution_count": null,
   "id": "057f007f-2537-4f4a-b170-b2206ff5fa06",
   "metadata": {},
   "outputs": [],
   "source": []
  }
 ],
 "metadata": {
  "kernelspec": {
   "display_name": "Python 3 (ipykernel)",
   "language": "python",
   "name": "python3"
  },
  "language_info": {
   "codemirror_mode": {
    "name": "ipython",
    "version": 3
   },
   "file_extension": ".py",
   "mimetype": "text/x-python",
   "name": "python",
   "nbconvert_exporter": "python",
   "pygments_lexer": "ipython3",
   "version": "3.12.4"
  }
 },
 "nbformat": 4,
 "nbformat_minor": 5
}
