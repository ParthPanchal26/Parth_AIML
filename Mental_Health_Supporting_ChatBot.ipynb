{
 "cells": [
  {
   "cell_type": "markdown",
   "id": "e4497eda-b276-4cff-8243-b48e960f4d5b",
   "metadata": {},
   "source": [
    "##### Importing the libraries and sets up the chatbot with the model and its configuration."
   ]
  },
  {
   "cell_type": "code",
   "execution_count": 49,
   "id": "7f3a62f8-18ee-461f-831d-ade41c43ebc2",
   "metadata": {},
   "outputs": [],
   "source": [
    "import gradio as gr\n",
    "from langchain_groq import ChatGroq\n",
    "\n",
    "# Here i am initialing the chatbot a model and a temperature\n",
    "llm = ChatGroq(\n",
    "    model=\"llama-3.1-70b-versatile\",\n",
    "    temperature=0.5,\n",
    "    groq_api_key='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'\n",
    ")\n"
   ]
  },
  {
   "cell_type": "markdown",
   "id": "b3af762d-ec39-43b4-95f8-70757768cdc8",
   "metadata": {},
   "source": [
    "##### Defining preset responses for greetings and general questions to the chatbot."
   ]
  },
  {
   "cell_type": "code",
   "execution_count": 51,
   "id": "f3d9b502-4f78-4918-b316-89c6fd889a2f",
   "metadata": {},
   "outputs": [],
   "source": [
    "# Here this code will predefine responses for greeting and general questions\n",
    "greeting_responses = {\n",
    "    \"hello\": \"Hello! How can I help you today?\",\n",
    "    \"hi\": \"Hi there! What would you like to talk about?\",\n",
    "    \"hey\": \"Hey! I'm here to support you.\",\n",
    "    \"good morning\": \"Good morning! How are you feeling today?\",\n",
    "    \"good afternoon\": \"Good afternoon! How can I assist you?\",\n",
    "    \"good evening\": \"Good evening! How's your day been?\",\n",
    "}\n",
    "\n",
    "bot_related_responses = {\n",
    "    \"who are you\": \"I’m a mental health support chatbot. I'm here to provide empathetic responses and assist with questions related to the mind and emotions.\",\n",
    "    \"what can you do\": \"I can help answer questions about mental health, thoughts, feelings, and other mind-related topics. Feel free to ask anything!\",\n",
    "    \"tell me about yourself\": \"I’m designed to offer emotional support and help with mind-related topics, but I’m not a substitute for professional help. How can I assist you today?\"\n",
    "}\n"
   ]
  },
  {
   "cell_type": "markdown",
   "id": "91251aa5-320f-460b-a908-217d569f843e",
   "metadata": {},
   "source": [
    "##### Function to determines is user's input is related to the mind or not."
   ]
  },
  {
   "cell_type": "code",
   "execution_count": 53,
   "id": "5dc0d7fb-486a-4b41-9a69-2ca1b1a7e4fc",
   "metadata": {},
   "outputs": [],
   "source": [
    "# Here this code will check user input, that if it is related to mind related questions or not.\n",
    "def is_mind_related_question(prompt):\n",
    "    \"\"\"\n",
    "    Checks if the user's prompt is related to the mind, including various mental processes\n",
    "    like thinking, visualizing, imagining, and others.\n",
    "    \"\"\"\n",
    "    mind_related_keywords = [\n",
    "        \"mind\", \"brain\", \"thoughts\", \"thinking\", \"feelings\", \"emotions\", \"mental health\", \n",
    "        \"anxiety\", \"depression\", \"stress\", \"therapy\", \"counseling\", \"self-care\", \n",
    "        \"motivation\", \"focus\", \"concentration\", \"memory\", \"learning\", \"intelligence\",\n",
    "        \"daydreaming\", \"mood\", \"meditation\", \"mindfulness\", \"behavior\", \"imagine\",\n",
    "        \"visualize\", \"visualizing\", \"recall\", \"dream\", \"dreaming\", \"fantasize\", \"fantasy\",\n",
    "        \"ruminate\", \"overthink\", \"self-talk\", \"inner dialogue\", \"mental imagery\", \n",
    "        \"cognition\", \"cognitive\", \"plan\", \"planning\", \"creative thinking\", \"subconscious\"\n",
    "    ]\n",
    "    \n",
    "    action_keywords = [\n",
    "        \"stop\", \"avoid\", \"control\", \"manage\", \"handle\", \"clear\", \"focus on\", \"concentrate on\", \n",
    "        \"remove\", \"stop thinking\", \"deal with\", \"visualize\", \"imagine\", \"plan\", \"process\"\n",
    "    ]\n",
    "\n",
    "    # Converting our prompt to the lowercase letters\n",
    "    prompt_lower = prompt.lower()\n",
    "\n",
    "    # Cheking for mind keywords\n",
    "    for keyword in mind_related_keywords:\n",
    "        if keyword in prompt_lower:\n",
    "            return True\n",
    "\n",
    "    # Returning true if any of these case becomes true\n",
    "    for action in action_keywords:\n",
    "        if action in prompt_lower and (\"thinking\" in prompt_lower or \"mind\" in prompt_lower or \"imagine\" in prompt_lower):\n",
    "            return True\n",
    "\n",
    "    return False\n"
   ]
  },
  {
   "cell_type": "markdown",
   "id": "78a3c002-fee6-4faf-a614-df8c17ec4a43",
   "metadata": {},
   "source": [
    "##### Function to checks is the user's input is a greeting or a question to the chatbot and returning an appropriate predefined response."
   ]
  },
  {
   "cell_type": "code",
   "execution_count": 55,
   "id": "cf2c8b24-8a88-4e9b-8ffa-886718fdba50",
   "metadata": {},
   "outputs": [],
   "source": [
    "def handle_greetings_or_bot_questions(prompt):\n",
    "    \"\"\"\n",
    "    Handles simple greetings and general queries about the bot.\n",
    "    \"\"\"\n",
    "    prompt_lower = prompt.lower()\n",
    "    \n",
    "    # This will check that is user prompt of greeting or not\n",
    "    for greeting in greeting_responses:\n",
    "        if greeting in prompt_lower:\n",
    "            return greeting_responses[greeting]\n",
    "    \n",
    "    # This will check that is user prompt of general question to bot ot not.\n",
    "    for query in bot_related_responses:\n",
    "        if query in prompt_lower:\n",
    "            return bot_related_responses[query]\n",
    "    \n",
    "    return None\n"
   ]
  },
  {
   "cell_type": "markdown",
   "id": "56e0bd32-6301-4fbe-bbda-5c52a9681ef7",
   "metadata": {},
   "source": [
    "##### The main logic for handling user query, checking for predefined responce, or generating chatbot replies based on the full conversation."
   ]
  },
  {
   "cell_type": "code",
   "execution_count": 57,
   "id": "768edb31-4966-4e41-8fed-321ec3d78b60",
   "metadata": {},
   "outputs": [],
   "source": [
    "# This function will handle conversation history\n",
    "def chatbot_response(user_prompt, chat_history):\n",
    "    \"\"\"\n",
    "    Handles the user's input and appends to the conversation history.\n",
    "    The chatbot generates responses based on the entire conversation history.\n",
    "    \"\"\"\n",
    "    \n",
    "    # Checking for greeitng or a general question of bot\n",
    "    predefined_response = handle_greetings_or_bot_questions(user_prompt)\n",
    "    \n",
    "    if predefined_response:\n",
    "        chat_history.append((\"Bot\", predefined_response))\n",
    "        return chat_history\n",
    "\n",
    "    # Appending the user quesry to the chat history for saving conversation\n",
    "    chat_history.append((\"User\", user_prompt))\n",
    "    \n",
    "    # Checking if the user's input is related to the mind question or not\n",
    "    if not is_mind_related_question(user_prompt):\n",
    "        chat_history.append((\"Bot\", \"Please ask only about questions related to the mind (e.g., thoughts, feelings, emotions, imagination).\"))\n",
    "        return chat_history\n",
    "    \n",
    "    # Here i prepare conversation and append to each previous one\n",
    "    conversation = \"\\n\".join([f\"{speaker}: {message}\" for speaker, message in chat_history])\n",
    "\n",
    "    # Guiding propmp to help model resppond to it\n",
    "    mind_related_prompt = f\"I’m here to listen and offer support. Respond with empathy and understanding. Here is the conversation so far:\\n{conversation}\\n{user_prompt}\"\n",
    "\n",
    "    try:\n",
    "        # Taking model response\n",
    "        res = llm.invoke(mind_related_prompt)\n",
    "        # Appending model response to chat\n",
    "        chat_history.append((\"Bot\", res.content))\n",
    "    except Exception as e:\n",
    "        chat_history.append((\"Bot\", \"Sorry, there was an issue processing your request. Please try again.\"))\n",
    "    \n",
    "    return chat_history\n"
   ]
  },
  {
   "cell_type": "markdown",
   "id": "b5f92280-2c9b-4ab5-9476-99cc6cabdf8b",
   "metadata": {},
   "source": [
    "##### Creating the Gradio UI with options to submit, clear or just clear the input field."
   ]
  },
  {
   "cell_type": "code",
   "execution_count": 65,
   "id": "7e05e131-eca8-41ce-b9a0-702408f23841",
   "metadata": {},
   "outputs": [],
   "source": [
    "# Creating gradio UI here\n",
    "def launch_gradio_interface():\n",
    "    # Creating textboxes for user input and output\n",
    "    with gr.Blocks() as demo:\n",
    "        # Adding a big title for the chatbot\n",
    "        gr.Markdown(\"# 🧠 Mental Health Support Chatbot\")\n",
    "\n",
    "        # Using gradio's state to implement history\n",
    "        chat_history = gr.State([])\n",
    "\n",
    "        # Creating textbox and output box\n",
    "        with gr.Row():\n",
    "            user_input = gr.Textbox(label=\"Ask your mind-related question\")\n",
    "            chat_output = gr.Chatbot(label=\"Mental Health Support Chatbot\")\n",
    "\n",
    "        # Button for submitting query\n",
    "        submit_button = gr.Button(\"Submit\")\n",
    "\n",
    "        # Updating chat history every time with user input\n",
    "        def update_chat(user_prompt, chat_history):\n",
    "            chat_history = chatbot_response(user_prompt, chat_history)\n",
    "            return chat_history, chat_history, \"\"\n",
    "\n",
    "        # Creating button to clear only the user prompt\n",
    "        def clear_prompt():\n",
    "            return \"\"\n",
    "\n",
    "        # Creating button to clear both the user input and history\n",
    "        def clear_chat():\n",
    "            return [], [], \"\"\n",
    "\n",
    "        # Creating a button to clear the user input only from UI\n",
    "        clear_prompt_button = gr.Button(\"Clear Prompt\")\n",
    "\n",
    "        # Creating button to clear both the user input and the history\n",
    "        clear_chat_button = gr.Button(\"Clear Chat\")\n",
    "\n",
    "        # Linking the user's input and the chat history's update\n",
    "        submit_button.click(update_chat, inputs=[user_input, chat_history], outputs=[chat_output, chat_history, user_input])\n",
    "\n",
    "        # Linking the clear buttons to their functions\n",
    "        clear_prompt_button.click(clear_prompt, inputs=[], outputs=[user_input])\n",
    "        clear_chat_button.click(clear_chat, inputs=[], outputs=[chat_output, chat_history, user_input])\n",
    "\n",
    "    # Launch the Gradio UI\n",
    "    demo.launch()\n"
   ]
  },
  {
   "cell_type": "markdown",
   "id": "70f5bfc4-a2ae-4364-acea-57a38bd50773",
   "metadata": {},
   "source": [
    "##### Final running the code"
   ]
  },
  {
   "cell_type": "code",
   "execution_count": 67,
   "id": "59106a3f-c77a-407a-9d96-aeb1cbd142a9",
   "metadata": {},
   "outputs": [
    {
     "name": "stdout",
     "output_type": "stream",
     "text": [
      "Running on local URL:  http://127.0.0.1:7869\n",
      "\n",
      "To create a public link, set `share=True` in `launch()`.\n"
     ]
    },
    {
     "data": {
      "text/html": [
       "<div><iframe src=\"http://127.0.0.1:7869/\" width=\"100%\" height=\"500\" allow=\"autoplay; camera; microphone; clipboard-read; clipboard-write;\" frameborder=\"0\" allowfullscreen></iframe></div>"
      ],
      "text/plain": [
       "<IPython.core.display.HTML object>"
      ]
     },
     "metadata": {},
     "output_type": "display_data"
    }
   ],
   "source": [
    "# Launching gradio interdace\n",
    "launch_gradio_interface()"
   ]
  },
  {
   "cell_type": "code",
   "execution_count": null,
   "id": "ca02f06a-52d4-4cf5-b555-75c5c458c44a",
   "metadata": {},
   "outputs": [],
   "source": []
  }
 ],
 "metadata": {
  "kernelspec": {
   "display_name": "Python 3 (ipykernel)",
   "language": "python",
   "name": "python3"
  },
  "language_info": {
   "codemirror_mode": {
    "name": "ipython",
    "version": 3
   },
   "file_extension": ".py",
   "mimetype": "text/x-python",
   "name": "python",
   "nbconvert_exporter": "python",
   "pygments_lexer": "ipython3",
   "version": "3.12.4"
  }
 },
 "nbformat": 4,
 "nbformat_minor": 5
}
